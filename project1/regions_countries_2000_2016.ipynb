{
 "cells": [
  {
   "attachments": {},
   "cell_type": "markdown",
   "metadata": {},
   "source": [
    "<h1>Projet 1: Analysez des données de systèmes éducatifs</h1>\n",
    "\n",
    "Nordine Oural - 29/12/2022\n",
    "\n",
    "---"
   ]
  },
  {
   "attachments": {},
   "cell_type": "markdown",
   "metadata": {},
   "source": [
    "**Table of contents**<a id='toc0_'></a>    \n",
    "- [Introduction](#toc1_1_)    \n",
    "- [Import des différents modules](#toc1_2_)    \n",
    "- [Visualisation des données de départ](#toc1_3_)    \n",
    "  - [Indicateurs](#toc1_3_1_)    \n",
    "  - [Pays](#toc1_3_2_)    \n",
    "- [Paramètres initiaux](#toc1_4_)    \n",
    "- [Nettoyage des pays](#toc1_5_)    \n",
    "- [Chargement des données à analyser](#toc1_6_)    \n",
    "- [Filtrage des données par pays](#toc1_7_)    \n",
    "- [Filtrage des données par indicateurs](#toc1_8_)    \n",
    "- [Simplification des données selon les années](#toc1_9_)    \n",
    "- [Execution au sein de la boucle des années](#toc1_10_)    \n",
    "\n",
    "<!-- vscode-jupyter-toc-config\n",
    "\tnumbering=false\n",
    "\tanchor=true\n",
    "\tflat=false\n",
    "\tminLevel=2\n",
    "\tmaxLevel=6\n",
    "\t/vscode-jupyter-toc-config -->\n",
    "<!-- THIS CELL WILL BE REPLACED ON TOC UPDATE. DO NOT WRITE YOUR TEXT IN THIS CELL -->"
   ]
  },
  {
   "cell_type": "markdown",
   "metadata": {},
   "source": []
  },
  {
   "cell_type": "markdown",
   "metadata": {},
   "source": [
    "### <a id='toc1_1_'></a>[Introduction](#toc0_)\n",
    "\n",
    "Le but de ce Notebook est de reprendre le code du Notebook OURAL_Nordine_1_notebook pour calculer les différents classements par année de 2000 à 2016.\n",
    "\n",
    "Le code utilisé est donc le même, on a juste imbriquer une partie de celui-ci dans une boucle allant de 2000 à 2017.\n"
   ]
  },
  {
   "cell_type": "markdown",
   "metadata": {},
   "source": [
    "### <a id='toc1_2_'></a>[Import des différents modules](#toc0_)\n",
    "Pour notre étude, nous utiliserons les librairies Pandas, NumPy ainsi que Express et graph_objects de PlotLY"
   ]
  },
  {
   "cell_type": "code",
   "execution_count": 1,
   "metadata": {},
   "outputs": [],
   "source": [
    "import pandas as pd\n",
    "import numpy as np\n",
    "import plotly.express as px, plotly.graph_objects as go\n",
    "from plotly.subplots import make_subplots"
   ]
  },
  {
   "cell_type": "markdown",
   "metadata": {},
   "source": [
    "### <a id='toc1_3_'></a>[Visualisation des données de départ](#toc0_)\n",
    "\n",
    "#### <a id='toc1_3_1_'></a>[Indicateurs](#toc0_)"
   ]
  },
  {
   "cell_type": "markdown",
   "metadata": {},
   "source": [
    "#### <a id='toc1_3_2_'></a>[Pays](#toc0_)\n",
    "On importe la liste des pays depuis le fichier EdStatsCountry.csv "
   ]
  },
  {
   "cell_type": "code",
   "execution_count": 2,
   "metadata": {},
   "outputs": [],
   "source": [
    "countries = pd.read_csv(\"assets/EdStatsCountry.csv\")"
   ]
  },
  {
   "cell_type": "markdown",
   "metadata": {},
   "source": [
    "### <a id='toc1_4_'></a>[Paramètres initiaux](#toc0_)\n",
    "Afin de pouvoir paramétrer facilement notre étude, nous définissons toutes les variables de paramètrage à un seul endroit"
   ]
  },
  {
   "cell_type": "code",
   "execution_count": 3,
   "metadata": {},
   "outputs": [],
   "source": [
    "''' Seuil minimal pour considérer l'étude d'un pays '''\n",
    "population_threshold = 2000000\n",
    "\n",
    "''' mapping code indicateur / label '''\n",
    "final_indicators = [\n",
    "    {\n",
    "        \"name\": \"% PC Population\",\n",
    "        \"indicators\": \"IT.CMP.PCMP.P2\"\n",
    "    },\n",
    "    {\n",
    "        \"name\": \"% Internet Population\",\n",
    "        \"indicators\": \"IT.NET.USER.P2\"\n",
    "    },\n",
    "    {\n",
    "        \"name\": \"PIB/habitant\",\n",
    "        \"indicators\": \"NY.GDP.PCAP.KD\"\n",
    "    },\n",
    "    {\n",
    "        \"name\": \"PIB\",\n",
    "        \"indicators\": \"NY.GDP.MKTP.KD\"\n",
    "    },\n",
    "    {\n",
    "        \"name\": \"Population Totale\",\n",
    "        \"indicators\": \"SP.POP.TOTL\"\n",
    "    },\n",
    "    {\n",
    "        \"name\": \"Population 1419\",\n",
    "        \"indicators\": \"SP.POP.1419.TO.UN\"\n",
    "    },\n",
    "    {\n",
    "        \"name\": \"Population -14\",\n",
    "        \"indicators\": \"SP.POP.0014.TO\"\n",
    "    }\n",
    "]"
   ]
  },
  {
   "cell_type": "markdown",
   "metadata": {},
   "source": [
    "A partir des paramètres fournis, on crée la liste des indicateurs à retenir"
   ]
  },
  {
   "cell_type": "code",
   "execution_count": 4,
   "metadata": {},
   "outputs": [],
   "source": [
    "indicators = list(map(lambda x: x[\"indicators\"], final_indicators))\n"
   ]
  },
  {
   "cell_type": "markdown",
   "metadata": {},
   "source": [
    "### <a id='toc1_5_'></a>[Nettoyage des pays](#toc0_)"
   ]
  },
  {
   "cell_type": "code",
   "execution_count": 5,
   "metadata": {},
   "outputs": [],
   "source": [
    "country_codes = pd.read_csv(\"https://datahub.io/core/country-codes/r/country-codes.csv\")"
   ]
  },
  {
   "cell_type": "code",
   "execution_count": 6,
   "metadata": {},
   "outputs": [],
   "source": [
    "countries = countries.loc[countries[\"2-alpha code\"].isin(country_codes[\"ISO3166-1-Alpha-2\"])]"
   ]
  },
  {
   "attachments": {},
   "cell_type": "markdown",
   "metadata": {},
   "source": [
    "Il y avait donc dans le fichier de départ des pays 241 - 216 = 25 lignes qui ne correspondaient pas à des pays réels."
   ]
  },
  {
   "cell_type": "markdown",
   "metadata": {},
   "source": [
    "### <a id='toc1_6_'></a>[Chargement des données à analyser](#toc0_)\n",
    "\n",
    "On charge le fichier EdStatsData.csv"
   ]
  },
  {
   "cell_type": "code",
   "execution_count": 7,
   "metadata": {},
   "outputs": [],
   "source": [
    "data= pd.read_csv(\"assets/EdStatsData.csv\")"
   ]
  },
  {
   "cell_type": "code",
   "execution_count": 8,
   "metadata": {},
   "outputs": [],
   "source": [
    "cols = list(data)"
   ]
  },
  {
   "cell_type": "markdown",
   "metadata": {},
   "source": [
    "### <a id='toc1_7_'></a>[Filtrage des données par pays](#toc0_)\n",
    "Nous devons exclure du dataframe précedent les pays qui ne sont pas de réels pays"
   ]
  },
  {
   "cell_type": "code",
   "execution_count": 9,
   "metadata": {},
   "outputs": [],
   "source": [
    "real_country_codes = countries[\"Country Code\"]\n",
    "data_orig = data.copy()\n",
    "\n",
    "data = data.loc[data[\"Country Code\"].isin(real_country_codes)]\n",
    "data.reset_index(drop=True, inplace=True)"
   ]
  },
  {
   "cell_type": "markdown",
   "metadata": {},
   "source": [
    "### <a id='toc1_8_'></a>[Filtrage des données par indicateurs](#toc0_)\n",
    "\n",
    "Les indicateurs retenus sont dans la liste \"indicators\" définie dans le chapitre \"Paramètres initiaux\". On filtre donc le dataframe pour ne retenir que les individus dont la variable \"Indicator Code\" est contenue dans cette liste."
   ]
  },
  {
   "cell_type": "code",
   "execution_count": 10,
   "metadata": {},
   "outputs": [],
   "source": [
    "data = data.loc[data[\"Indicator Code\"].isin(indicators), :]\n",
    "data.reset_index(drop=True, inplace=True)"
   ]
  },
  {
   "cell_type": "markdown",
   "metadata": {},
   "source": [
    "### <a id='toc1_9_'></a>[Simplification des données selon les années](#toc0_)\n",
    "\n",
    "Nous avons vu que que les colonnes comportaient les valeurs pour différentes années entre 1970 et 2100 mais pas de manière uniforme.\n",
    "Ici, nous ne prendrons en compte que la dernière valeur passée définie.\n",
    "\n",
    "Pour cela, nous définissons une fonction get_latest_value qui va, pour un individu donné, partir de l'année en cours et qui va chercher la 1ère année qui contient une valeur. La recherche se fera jusqu'à 1970."
   ]
  },
  {
   "cell_type": "code",
   "execution_count": 11,
   "metadata": {},
   "outputs": [],
   "source": [
    "data_orig = data.copy()"
   ]
  },
  {
   "cell_type": "code",
   "execution_count": 12,
   "metadata": {},
   "outputs": [],
   "source": [
    "def get_latest_value(row, current_year=2016):\n",
    "    while current_year>=1970: \n",
    "        s_current_year = str(current_year)\n",
    "        # cols a été calculé plus haut et contient les noms de toutes les variables du dataframe\n",
    "        if s_current_year in cols and not pd.isna(row[s_current_year]):\n",
    "            return row[s_current_year]\n",
    "        else:\n",
    "            current_year -= 1\n",
    "    return None\n",
    "\n",
    "def rename_column(t):\n",
    "    for f_i in final_indicators:\n",
    "        if f_i[\"indicators\"]==t:\n",
    "            return f_i[\"name\"]\n",
    "    return t\n",
    "    \n",
    "def weighted(x, cols, w=\"Population Totale\"):\n",
    "    return pd.Series(np.average(x[cols], weights=x[w], axis=0), cols)\n",
    "\n",
    "def summed(x, cols):\n",
    "    return pd.Series(np.sum(x[cols], axis=0), cols)"
   ]
  },
  {
   "attachments": {},
   "cell_type": "markdown",
   "metadata": {},
   "source": [
    "### <a id='toc1_10_'></a>[Execution au sein de la boucle des années](#toc0_)\n",
    "\n",
    "on commence d'abord par créer le dossier images si celui-ci n'existe pas"
   ]
  },
  {
   "cell_type": "code",
   "execution_count": 13,
   "metadata": {},
   "outputs": [],
   "source": [
    "import os\n",
    "if not os.path.exists('images'):\n",
    "   os.makedirs('images')"
   ]
  },
  {
   "attachments": {},
   "cell_type": "markdown",
   "metadata": {},
   "source": [
    "Ensuite, on reprend le code originel, on l'applique dans une boucle pour les années, en s'assurant de passer l'annnée en cours à la fonction get_latest_value"
   ]
  },
  {
   "cell_type": "code",
   "execution_count": 14,
   "metadata": {},
   "outputs": [],
   "source": [
    "for upto_year in range(2000, 2017):\n",
    "    data = data_orig.copy()\n",
    "    data[\"latest_value\"] = data.apply(lambda x: get_latest_value(x, upto_year), axis=1)\n",
    "    current_year = 2100 # la dernière année du dataframe\n",
    "    while current_year>=1970: \n",
    "        s_current_year = str(current_year)\n",
    "        if s_current_year in cols:\n",
    "            del data[s_current_year]\n",
    "        current_year -= 1\n",
    "\n",
    "    data2 = pd.DataFrame() #1\n",
    "    # on boucle sur les différents pays\n",
    "    for country_code in data[\"Country Code\"].unique(): #2\n",
    "        '''\n",
    "        2.1\n",
    "        '''\n",
    "        tmp = data.loc[data[\"Country Code\"]==country_code]\n",
    "        country_dict = {\"Country Code\": [country_code], \"Country Name\": [tmp[\"Country Name\"].iloc[0]]} #2.1\n",
    "        for indicator in indicators:\n",
    "            country_dict[indicator] = [tmp.loc[tmp[\"Indicator Code\"]==indicator, :][\"latest_value\"].iloc[0]]\n",
    "\n",
    "        country_df = pd.DataFrame(country_dict) # 2.2\n",
    "        data2 = pd.concat([data2, country_df], ignore_index=True) #2.3\n",
    "\n",
    "    data = data2 #3\n",
    "\n",
    "    countries2 = countries.loc[:,[\"Country Code\", \"Region\"]]\n",
    "    data = data.merge(countries2, on=\"Country Code\")\n",
    "\n",
    "    data = data.rename(columns=rename_column).reset_index(drop=True)\n",
    "\n",
    "    data = data.loc[~data[\"Population Totale\"].isna()].reset_index(drop=True)\n",
    "    data = data.loc[~data[\"Region\"].isna()].reset_index(drop=True)\n",
    "\n",
    "    data.loc[(data[\"PIB/habitant\"].isna()),\"PIB/habitant\"] = data.loc[(data[\"PIB/habitant\"].isna()),\"PIB\"] / data.loc[(data[\"PIB/habitant\"].isna()),\"Population Totale\"]\n",
    "    data.loc[(data[\"PIB/habitant\"].isna())]\n",
    "\n",
    "    data.loc[(data[\"Population 1419\"].isna()),\"Population 1419\"] = data[\"Population -14\"] * 6 / 14\n",
    "\n",
    "    data.loc[(data[\"Population -14\"].isna()),\"Population -14\"] = data[\"Population 1419\"] * 6 / 14\n",
    "\n",
    "    data = data.loc[data[\"Population Totale\"]>population_threshold].reset_index(drop=True)\n",
    "\n",
    "    data = data.loc[~(data[\"% PC Population\"].isna() | data[\"% Internet Population\"].isna() | data[\"PIB/habitant\"].isna() |  data[\"Population 1419\"].isna() |  data[\"Population -14\"].isna() )].reset_index(drop=True)\n",
    "\n",
    "    del data[\"PIB\"]\n",
    "    data[\"Population 20+\"] = data[\"Population Totale\"] - data[\"Population -14\"] - data[\"Population 1419\"]\n",
    "    del data[\"Population 1419\"]\n",
    "    del data[\"Population -14\"]\n",
    "\n",
    "    data_regions1 = data.groupby(\"Region\").apply(weighted, [\"% PC Population\", \"% Internet Population\", \"PIB/habitant\"]).reset_index()\n",
    "    data_regions2 = data.groupby(\"Region\").apply(summed, [\"Population Totale\", \"Population 20+\"]).reset_index()\n",
    "\n",
    "    data_regions = data_regions2.merge(data_regions1, on=\"Region\")\n",
    "\n",
    "    data_regions_normalized = data_regions.copy()\n",
    "    subjects = list(data_regions)[1:]\n",
    "    for s in subjects:\n",
    "        data_regions_normalized[s] = data_regions_normalized[s] / np.max(data_regions_normalized[s])\n",
    "    subjects.append(subjects[0])\n",
    "\n",
    "    fig = go.Figure()\n",
    "\n",
    "    for region in data_regions[\"Region\"]:\n",
    "        r = data_regions_normalized.loc[data_regions[\"Region\"]==region,].iloc[0].values.tolist()\n",
    "        r = r[1:]\n",
    "        r.append(r[0])\n",
    "        fig.add_trace(go.Scatterpolar(\n",
    "            r=r,\n",
    "            theta=subjects,\n",
    "            fill='toself',\n",
    "            name=region\n",
    "        ))\n",
    "\n",
    "    fig.update_layout(\n",
    "        polar=dict(\n",
    "            radialaxis=dict(\n",
    "                visible=True,\n",
    "                range=[0, 1]\n",
    "            )\n",
    "        ),\n",
    "        showlegend=True,\n",
    "        height=800,\n",
    "        width=1000,\n",
    "        title=go.layout.Title(\n",
    "            text=f\"Répartition en radar des indicateurs retenus - année {upto_year}<br><sup>Chaque indicateur est rapporté par rapport au max de la variable correspondante</sup>\",\n",
    "            xref=\"paper\",\n",
    "            x=0\n",
    "        )\n",
    "    )\n",
    "    fig.write_image(f\"images/radar_{upto_year}.png\")\n",
    "\n",
    "    data_regions[\"Population 20-\"] = data_regions[\"Population Totale\"] - data_regions[\"Population 20+\"]\n",
    "\n",
    "    def calcul_indicateur_confiance(x):\n",
    "        return x[\"% PC Population\"] * x[\"% Internet Population\"] + x[\"% Internet Population\"] * 100 * x[\"PIB/habitant\"] / x[\"PIB/habitant\"].max()\n",
    "\n",
    "    data_regions[\"indicateur_confiance_individuel\"] = calcul_indicateur_confiance(data_regions)\n",
    "    #On normalise par rapport aux min et max\n",
    "    data_regions[\"indicateur_confiance_individuel\"] = (data_regions[\"indicateur_confiance_individuel\"] - data_regions[\"indicateur_confiance_individuel\"].min()) / (data_regions[\"indicateur_confiance_individuel\"].max() - data_regions[\"indicateur_confiance_individuel\"].min())\n",
    "\n",
    "    data_regions[\"indicateur_confiance_global\"] = round(data_regions[\"indicateur_confiance_individuel\"] * np.sqrt(data_regions[\"Population 20+\"] + 0.25 * data_regions[\"Population 20-\"]))\n",
    "    #On normalise par rapport aux min et max\n",
    "    data_regions[\"indicateur_confiance_global\"] = (data_regions[\"indicateur_confiance_global\"] - data_regions[\"indicateur_confiance_global\"].min()) / (data_regions[\"indicateur_confiance_global\"].max() - data_regions[\"indicateur_confiance_global\"].min())\n",
    "\n",
    "    fig = make_subplots(rows=1, cols=1, specs=[[{'type':'domain'}]])\n",
    "    #fig.add_trace(go.Pie(labels=data_regions['Region'], values=data_regions['indicateur_confiance_individuel'], name=\"Par personne\"), 1, 1)\n",
    "    fig.add_trace(go.Pie(labels=data_regions['Region'], values=data_regions['indicateur_confiance_global'], name=\"\"), 1, 1)\n",
    "    fig.update_layout(\n",
    "        title=f\"Répartition de l'indicateur de confiance par région - année {upto_year}\",\n",
    "        title_x=0.5,\n",
    "        width=800,\n",
    "        height=800\n",
    "    )\n",
    "    fig.write_image(f\"images/classement_regions_{upto_year}.png\")\n",
    "\n",
    "\n",
    "    data[\"Population 20-\"] = data[\"Population Totale\"] - data[\"Population 20+\"]\n",
    "\n",
    "    data[\"indicateur_confiance_individuel\"] = calcul_indicateur_confiance(data)\n",
    "    data[\"indicateur_confiance_individuel\"] = round((data[\"indicateur_confiance_individuel\"] - data[\"indicateur_confiance_individuel\"].min()) / (data[\"indicateur_confiance_individuel\"].max() - data[\"indicateur_confiance_individuel\"].min()), 3)\n",
    "\n",
    "    data[\"indicateur_confiance_global\"] = round(data[\"indicateur_confiance_individuel\"] * np.sqrt(data[\"Population 20+\"] + 0.25 * data[\"Population 20-\"]))\n",
    "    data[\"indicateur_confiance_global\"] = (data[\"indicateur_confiance_global\"] - data[\"indicateur_confiance_global\"].min()) / (data[\"indicateur_confiance_global\"].max() - data[\"indicateur_confiance_global\"].min())\n",
    "\n",
    "    threshold_20pc = data[\"indicateur_confiance_global\"].quantile(q=0.8)\n",
    "\n",
    "    cl = data.loc[data[\"indicateur_confiance_global\"]>=threshold_20pc, [\"Country Name\", \"Region\", \"indicateur_confiance_global\"]].sort_values(by=\"indicateur_confiance_global\", ascending=False).reset_index(drop=True)\n",
    "    cl[\"rang\"] = cl.index + 1\n",
    "    fig = make_subplots(rows = 1, cols = 1, vertical_spacing = 0.05, horizontal_spacing = 0.05, specs=[[{\"type\": \"table\"}]])\n",
    "    fig.add_trace(go.Table(\n",
    "            header=dict(\n",
    "                values=['','<b>Pays</b>', '<b>Indice de confiance global</b>'],\n",
    "                align=[\"left\", \"center\"],\n",
    "                line_color=\"darkslategray\",\n",
    "                fill=dict(color=['#cacaca', '#cacaca']),\n",
    "            ), cells=dict(\n",
    "                values=[cl[\"rang\"], cl[\"Country Name\"], cl[\"indicateur_confiance_global\"]],\n",
    "                line_color=\"darkslategray\",\n",
    "                fill=dict(color=['white', 'white']),\n",
    "                align=[\"left\", \"center\", \"right\"],\n",
    "            ),\n",
    "            columnwidth = [1,10, 10],\n",
    "\n",
    "        ), 1, 1)\n",
    "    fig.update_layout(\n",
    "        title=f\"Classement des indices de confiance par pays - année {upto_year}\",\n",
    "        title_x=0.5,\n",
    "        margin={\"t\": 50},\n",
    "        showlegend= False,\n",
    "        height=800,\n",
    "        width=800\n",
    "    )\n",
    "    fig.write_image(f\"images/classement_{upto_year}.png\")\n",
    "    "
   ]
  }
 ],
 "metadata": {
  "kernelspec": {
   "display_name": "env",
   "language": "python",
   "name": "python3"
  },
  "language_info": {
   "codemirror_mode": {
    "name": "ipython",
    "version": 3
   },
   "file_extension": ".py",
   "mimetype": "text/x-python",
   "name": "python",
   "nbconvert_exporter": "python",
   "pygments_lexer": "ipython3",
   "version": "3.8.10"
  },
  "orig_nbformat": 4,
  "vscode": {
   "interpreter": {
    "hash": "e7972d72bbedaed1e95baec2d50d09bfb436a2695e0b6191568c0fd3e8ebf7ff"
   }
  }
 },
 "nbformat": 4,
 "nbformat_minor": 2
}
