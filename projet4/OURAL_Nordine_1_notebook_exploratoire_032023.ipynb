{
 "cells": [
  {
   "cell_type": "code",
   "execution_count": 1,
   "id": "28d9d72f-bfe5-48f7-914f-04bb61ec1819",
   "metadata": {},
   "outputs": [],
   "source": [
    "import os\n",
    "import pandas as pd\n",
    "import numpy as np\n",
    "from lib.dfInfo import get_df_info, show_df_info_bar\n",
    "import plotly.io as pio\n",
    "import plotly.express as px\n",
    "from pyvis.network import Network\n",
    "import networkx as nx\n",
    "\n",
    "from base64 import b64encode\n",
    "from io import BytesIO\n",
    "\n",
    "from IPython.display import Markdown as md, display, HTML\n",
    "import matplotlib.pyplot as plt\n",
    "import seaborn as sns\n",
    "\n",
    "import chart_studio.plotly as tls\n",
    "import plotly.graph_objects as go\n",
    "from scipy.stats import skew, kurtosis, chi2_contingency\n",
    "from sklearn.preprocessing import StandardScaler\n",
    "from sklearn.decomposition import PCA\n",
    "from sklearn.model_selection import train_test_split\n",
    "from sklearn.experimental import enable_iterative_imputer\n",
    "from sklearn.impute import IterativeImputer\n",
    "from sklearn.linear_model import LinearRegression\n",
    "from scipy import stats\n",
    "\n",
    "from Levenshtein import ratio\n",
    "\n",
    "import itertools\n",
    "\n",
    "from lib import pipeUtils\n",
    "pio.renderers.default = \"iframe\"\n",
    "\n",
    "working_dir = \"working\"\n",
    "if not os.path.exists(working_dir):\n",
    "    os.mkdir(working_dir)\n",
    "\n",
    "\n",
    "df = pd.read_csv(\"assets/2016_Building_Energy_Benchmarking.csv\")"
   ]
  },
  {
   "cell_type": "code",
   "execution_count": 2,
   "id": "61cca052-4bd5-4105-98e5-02ef45e3033f",
   "metadata": {},
   "outputs": [
    {
     "name": "stdout",
     "output_type": "stream",
     "text": [
      "<class 'pandas.core.frame.DataFrame'>\n",
      "RangeIndex: 3376 entries, 0 to 3375\n",
      "Data columns (total 46 columns):\n",
      " #   Column                           Non-Null Count  Dtype  \n",
      "---  ------                           --------------  -----  \n",
      " 0   OSEBuildingID                    3376 non-null   int64  \n",
      " 1   DataYear                         3376 non-null   int64  \n",
      " 2   BuildingType                     3376 non-null   object \n",
      " 3   PrimaryPropertyType              3376 non-null   object \n",
      " 4   PropertyName                     3376 non-null   object \n",
      " 5   Address                          3376 non-null   object \n",
      " 6   City                             3376 non-null   object \n",
      " 7   State                            3376 non-null   object \n",
      " 8   ZipCode                          3360 non-null   float64\n",
      " 9   TaxParcelIdentificationNumber    3376 non-null   object \n",
      " 10  CouncilDistrictCode              3376 non-null   int64  \n",
      " 11  Neighborhood                     3376 non-null   object \n",
      " 12  Latitude                         3376 non-null   float64\n",
      " 13  Longitude                        3376 non-null   float64\n",
      " 14  YearBuilt                        3376 non-null   int64  \n",
      " 15  NumberofBuildings                3368 non-null   float64\n",
      " 16  NumberofFloors                   3376 non-null   int64  \n",
      " 17  PropertyGFATotal                 3376 non-null   int64  \n",
      " 18  PropertyGFAParking               3376 non-null   int64  \n",
      " 19  PropertyGFABuilding(s)           3376 non-null   int64  \n",
      " 20  ListOfAllPropertyUseTypes        3367 non-null   object \n",
      " 21  LargestPropertyUseType           3356 non-null   object \n",
      " 22  LargestPropertyUseTypeGFA        3356 non-null   float64\n",
      " 23  SecondLargestPropertyUseType     1679 non-null   object \n",
      " 24  SecondLargestPropertyUseTypeGFA  1679 non-null   float64\n",
      " 25  ThirdLargestPropertyUseType      596 non-null    object \n",
      " 26  ThirdLargestPropertyUseTypeGFA   596 non-null    float64\n",
      " 27  YearsENERGYSTARCertified         119 non-null    object \n",
      " 28  ENERGYSTARScore                  2533 non-null   float64\n",
      " 29  SiteEUI(kBtu/sf)                 3369 non-null   float64\n",
      " 30  SiteEUIWN(kBtu/sf)               3370 non-null   float64\n",
      " 31  SourceEUI(kBtu/sf)               3367 non-null   float64\n",
      " 32  SourceEUIWN(kBtu/sf)             3367 non-null   float64\n",
      " 33  SiteEnergyUse(kBtu)              3371 non-null   float64\n",
      " 34  SiteEnergyUseWN(kBtu)            3370 non-null   float64\n",
      " 35  SteamUse(kBtu)                   3367 non-null   float64\n",
      " 36  Electricity(kWh)                 3367 non-null   float64\n",
      " 37  Electricity(kBtu)                3367 non-null   float64\n",
      " 38  NaturalGas(therms)               3367 non-null   float64\n",
      " 39  NaturalGas(kBtu)                 3367 non-null   float64\n",
      " 40  DefaultData                      3376 non-null   bool   \n",
      " 41  Comments                         0 non-null      float64\n",
      " 42  ComplianceStatus                 3376 non-null   object \n",
      " 43  Outlier                          32 non-null     object \n",
      " 44  TotalGHGEmissions                3367 non-null   float64\n",
      " 45  GHGEmissionsIntensity            3367 non-null   float64\n",
      "dtypes: bool(1), float64(22), int64(8), object(15)\n",
      "memory usage: 1.2+ MB\n"
     ]
    }
   ],
   "source": [
    "df.info()"
   ]
  },
  {
   "cell_type": "code",
   "execution_count": 3,
   "id": "6a82c540-29c2-4a70-bc11-05491cebda92",
   "metadata": {},
   "outputs": [
    {
     "data": {
      "text/plain": [
       "(3376, 46)"
      ]
     },
     "execution_count": 3,
     "metadata": {},
     "output_type": "execute_result"
    }
   ],
   "source": [
    "df.shape"
   ]
  },
  {
   "cell_type": "markdown",
   "id": "ff03017c-8f95-4f90-a306-1c6b5a7f9e35",
   "metadata": {},
   "source": [
    "3376 observations, on remarque une feature non remplie à 100%: Comments ainsi que 2 features très peu remplies: YearsENERGYSTARCertified et Outlier"
   ]
  },
  {
   "cell_type": "code",
   "execution_count": 4,
   "id": "ac13c162-3911-472a-82e7-f9f209cef836",
   "metadata": {},
   "outputs": [
    {
     "data": {
      "text/html": [
       "<iframe\n",
       "    scrolling=\"no\"\n",
       "    width=\"100%\"\n",
       "    height=\"815.0617283950618\"\n",
       "    src=\"iframe_figures/figure_4.html\"\n",
       "    frameborder=\"0\"\n",
       "    allowfullscreen\n",
       "></iframe>\n"
      ]
     },
     "metadata": {},
     "output_type": "display_data"
    }
   ],
   "source": [
    "df_info = get_df_info(df)\n",
    "show_df_info_bar(df_info=df_info)"
   ]
  },
  {
   "cell_type": "markdown",
   "id": "3a42debc-b516-435d-80db-068d8976e454",
   "metadata": {},
   "source": [
    "# Filtrage"
   ]
  },
  {
   "cell_type": "code",
   "execution_count": 5,
   "id": "55af5c9e-7dd9-4a4e-a4a2-f4ad0234b8e1",
   "metadata": {},
   "outputs": [
    {
     "data": {
      "text/plain": [
       "array(['NonResidential', 'Nonresidential COS', 'Multifamily MR (5-9)',\n",
       "       'SPS-District K-12', 'Campus', 'Multifamily LR (1-4)',\n",
       "       'Multifamily HR (10+)', 'Nonresidential WA'], dtype=object)"
      ]
     },
     "execution_count": 5,
     "metadata": {},
     "output_type": "execute_result"
    }
   ],
   "source": [
    "df[\"BuildingType\"].unique()"
   ]
  },
  {
   "cell_type": "code",
   "execution_count": 6,
   "id": "ac6f3edf-90e5-43c7-9797-fe5970f08028",
   "metadata": {},
   "outputs": [
    {
     "data": {
      "text/plain": [
       "array(['Hotel', 'Other', 'Mid-Rise Multifamily', 'Mixed Use Property',\n",
       "       'K-12 School', 'University', 'Small- and Mid-Sized Office',\n",
       "       'Self-Storage Facility', 'Warehouse', 'Large Office',\n",
       "       'Senior Care Community', 'Medical Office', 'Retail Store',\n",
       "       'Hospital', 'Residence Hall', 'Distribution Center',\n",
       "       'Worship Facility', 'Low-Rise Multifamily',\n",
       "       'Supermarket / Grocery Store', 'Laboratory',\n",
       "       'Refrigerated Warehouse', 'Restaurant', 'High-Rise Multifamily',\n",
       "       'Office'], dtype=object)"
      ]
     },
     "execution_count": 6,
     "metadata": {},
     "output_type": "execute_result"
    }
   ],
   "source": [
    "df[\"PrimaryPropertyType\"].unique()"
   ]
  },
  {
   "cell_type": "code",
   "execution_count": 7,
   "id": "ac9a0c26-4106-4052-8cf3-3d502eb11e32",
   "metadata": {},
   "outputs": [],
   "source": [
    "df_residences = df.loc[~((df[\"BuildingType\"]!=\"Multifamily MR (5-9)\") & (df[\"BuildingType\"]!=\"Multifamily LR (1-4)\") & (df[\"BuildingType\"]!=\"Multifamily HR (10+)\") & (df[\"PrimaryPropertyType\"]!=\"Low-Rise Multifamily\"))].reset_index(drop=True)"
   ]
  },
  {
   "cell_type": "code",
   "execution_count": 8,
   "id": "13b005c8-c3d7-46c6-ba1e-4c768dc12425",
   "metadata": {},
   "outputs": [],
   "source": [
    "df = df.loc[(df[\"BuildingType\"]!=\"Multifamily MR (5-9)\") & (df[\"BuildingType\"]!=\"Multifamily LR (1-4)\") & (df[\"BuildingType\"]!=\"Multifamily HR (10+)\") & (df[\"PrimaryPropertyType\"]!=\"Low-Rise Multifamily\")].reset_index(drop=True)"
   ]
  },
  {
   "cell_type": "code",
   "execution_count": 9,
   "id": "94815611-192c-4ca8-b379-6d98b0e77747",
   "metadata": {},
   "outputs": [
    {
     "data": {
      "text/html": [
       "<iframe\n",
       "    scrolling=\"no\"\n",
       "    width=\"100%\"\n",
       "    height=\"815.0617283950618\"\n",
       "    src=\"iframe_figures/figure_9.html\"\n",
       "    frameborder=\"0\"\n",
       "    allowfullscreen\n",
       "></iframe>\n"
      ]
     },
     "metadata": {},
     "output_type": "display_data"
    }
   ],
   "source": [
    "df_info = get_df_info(df)\n",
    "show_df_info_bar(df_info=df_info)"
   ]
  },
  {
   "cell_type": "code",
   "execution_count": 19,
   "id": "b962d029-5a4c-4bd3-9c40-37845972b2f2",
   "metadata": {},
   "outputs": [
    {
     "ename": "SyntaxError",
     "evalue": "':' expected after dictionary key (3447231246.py, line 31)",
     "output_type": "error",
     "traceback": [
      "\u001b[0;36m  Cell \u001b[0;32mIn[19], line 31\u001b[0;36m\u001b[0m\n\u001b[0;31m    center=go.layout.mapbox.Center(\u001b[0m\n\u001b[0m         ^\u001b[0m\n\u001b[0;31mSyntaxError\u001b[0m\u001b[0;31m:\u001b[0m ':' expected after dictionary key\n"
     ]
    }
   ],
   "source": [
    "fig = go.Figure(\n",
    "    go.Scattermapbox(\n",
    "        lat = df['Latitude'],\n",
    "        lon = df['Longitude'],\n",
    "        mode = 'markers',\n",
    "        marker = go.scattermapbox.Marker(\n",
    "            color=\"fuchsia\",\n",
    "            opacity=0.5\n",
    "        )\n",
    "    )\n",
    ")\n",
    "\n",
    "fig.add_trace(\n",
    "    go.Scattermapbox(\n",
    "        mode = \"markers\",\n",
    "        lon = df_residences['Longitude'],\n",
    "        lat = df_residences['Latitude'],\n",
    "        marker = go.scattermapbox.Marker(\n",
    "            color= 'blue', \n",
    "            opacity= 0.5\n",
    "        )\n",
    "    )\n",
    ")\n",
    "\n",
    "fig.update_layout(\n",
    "    mapbox_style=\"open-street-map\",\n",
    "    margin={\"r\":0,\"t\":0,\"l\":0,\"b\":0},\n",
    "    height= 800,\n",
    "    mapbox = {\n",
    "        \"zoom\":12,\n",
    "        \"center\": go.layout.mapbox.Center(\n",
    "            lat=df[\"Latitude\"].mean(),\n",
    "            lon=df[\"Longitude\"].mean()\n",
    "        ),\n",
    "\n",
    "    }\n",
    ")\n"
   ]
  },
  {
   "cell_type": "code",
   "execution_count": 11,
   "id": "741dad84-b4d2-4ad4-a097-3a015b69e19d",
   "metadata": {},
   "outputs": [
    {
     "ename": "SyntaxError",
     "evalue": "unterminated string literal (detected at line 3) (211008911.py, line 3)",
     "output_type": "error",
     "traceback": [
      "\u001b[0;36m  Cell \u001b[0;32mIn[11], line 3\u001b[0;36m\u001b[0m\n\u001b[0;31m    fig.update_layout(\")\u001b[0m\n\u001b[0m                      ^\u001b[0m\n\u001b[0;31mSyntaxError\u001b[0m\u001b[0;31m:\u001b[0m unterminated string literal (detected at line 3)\n"
     ]
    }
   ],
   "source": [
    "fig = px.scatter_mapbox(df, lat=\"Latitude\", lon=\"Longitude\",\n",
    "                        color_discrete_sequence=[\"fuchsia\"], zoom=12, height=900)\n",
    "fig.update_layout(\")\n",
    "fig.update_layout(margin={\"r\":0,\"t\":0,\"l\":0,\"b\":0})\n",
    "fig.show()"
   ]
  },
  {
   "cell_type": "code",
   "execution_count": null,
   "id": "d5d6197d-f501-4bb9-85e3-e21547b29696",
   "metadata": {},
   "outputs": [],
   "source": []
  },
  {
   "cell_type": "markdown",
   "id": "d0ab7f17-d956-4d86-b0c7-1bd98dea8181",
   "metadata": {},
   "source": [
    "# Nettoyage et imputation"
   ]
  },
  {
   "cell_type": "code",
   "execution_count": null,
   "id": "a783f642-5233-4139-be21-b51905a5b524",
   "metadata": {},
   "outputs": [],
   "source": [
    "df = pipeUtils.clean_and_impute(df, inplace=True)\n"
   ]
  },
  {
   "cell_type": "code",
   "execution_count": null,
   "id": "99ddff32-c53e-473a-aae7-c69c12a13e12",
   "metadata": {},
   "outputs": [],
   "source": [
    "df.info()"
   ]
  },
  {
   "cell_type": "markdown",
   "id": "0b86c376-eab6-41c1-b0f3-a5f4a8ea7340",
   "metadata": {},
   "source": [
    "# Analyse univariée"
   ]
  },
  {
   "cell_type": "code",
   "execution_count": null,
   "id": "c340f6ca-54a5-454a-8bf3-2bb1658380d7",
   "metadata": {},
   "outputs": [],
   "source": [
    "num_cols = []\n",
    "cat_cols = []\n",
    "for c in df.columns:\n",
    "    if df.dtypes[c]==\"float64\" or df.dtypes[c]==\"int64\":\n",
    "        num_cols.append(c)\n",
    "    elif df.dtypes[c]==\"object\":\n",
    "        cat_cols.append(c)\n",
    "        \n",
    "def add_split_screen(title, html, figsdata=[], figshtml=[], iwidth=None):\n",
    "    \n",
    "    iwidth = ' width={0} '.format(iwidth) if iwidth is not None else ''\n",
    "    datatable = f\"\"\"<table><tr><td colspan=\"{1 + len(figsdata) + len(figshtml)}\" align=\"center\"><h3>{title}</h3></td></tr><tr><td>{html}</td>\"\"\"\n",
    "    for figdata in figsdata:\n",
    "        datatable += f\"\"\"<td><img src=\"data:image/png;base64,{b64encode(figdata.getvalue()).decode()}\"/></td>\"\"\"\n",
    "    for fightml in figshtml:\n",
    "        datatable += f\"\"\"<td>{fightml}</td>\"\"\"\n",
    "    datatable += \"\"\"</tr></table>\"\"\"\n",
    "\n",
    "    display(HTML(datatable)) \n",
    "\n",
    "\n",
    "df0 = df.copy()\n",
    "for c in num_cols:\n",
    "    continue\n",
    "    if c==\"OSEBuildingID\":\n",
    "        continue\n",
    "    \n",
    "    df0[c] = df0[c].astype(float)\n",
    "    \n",
    "    d = df0.loc[:,c].describe().to_dict()\n",
    "    d_html = \"<table>\"\n",
    "    for t in d:\n",
    "        d_html += f\"\"\"<tr><td>{t}</td><td align=\"right\">{d[t]}</td></tr>\"\"\"\n",
    "    d_html += f\"\"\"<tr><td>skewness</td><td align=\"right\">{skew(df0.loc[~df0[c].isna(), c])}</td></tr>\"\"\"\n",
    "    k = kurtosis(df0.loc[~df0[c].isna(), c])\n",
    "    d_html += f\"\"\"<tr><td>kurtosis</td><td align=\"right\">{k}</td></tr>\"\"\"\n",
    "    d_html += \"</table>\"\n",
    "    \n",
    "    fig = px.box(df0, x=c)\n",
    "    fig.update_layout(\n",
    "        width=500,\n",
    "        height=350\n",
    "    )\n",
    "    fig1html = fig.to_html()\n",
    "\n",
    "    fig = px.histogram(df0, x=c, log_y=False)\n",
    "    fig.update_layout(\n",
    "        width=500,\n",
    "        height=350\n",
    "    )\n",
    "    fig2html = fig.to_html()\n",
    "\n",
    "    if k>8:\n",
    "        fig = px.histogram(df0, x=c, log_y=True)\n",
    "        fig.update_layout(\n",
    "            width=500,\n",
    "            height=350\n",
    "        )\n",
    "        fig3html = fig.to_html()\n",
    "        add_split_screen(c, d_html, figshtml=[fig1html, fig2html, fig3html])\n",
    "    else:\n",
    "        add_split_screen(c, d_html, figshtml=[fig1html, fig2html])\n"
   ]
  },
  {
   "cell_type": "code",
   "execution_count": null,
   "id": "be5109d3-8307-428f-8550-f90174bc2e92",
   "metadata": {},
   "outputs": [],
   "source": [
    "for c in cat_cols:\n",
    "    if len(df[c].unique())>30:\n",
    "        continue\n",
    "    f = plt.figure(figsize=(25,3))\n",
    "    #plt.subplot(1,1,1)\n",
    "    g = sns.countplot(x=df.sort_values(c)[c])\n",
    "    plt.xticks(rotation=90)\n",
    "    f.suptitle(c)\n",
    "    plt.show()"
   ]
  },
  {
   "cell_type": "code",
   "execution_count": null,
   "id": "a0e8efcd-4d53-453d-8dd0-8fffb596ade5",
   "metadata": {},
   "outputs": [],
   "source": [
    "target_cols = [\"SiteEUIWN(kBtu/sf)\", \"GHGEmissionsIntensity\"]"
   ]
  },
  {
   "cell_type": "code",
   "execution_count": null,
   "id": "bbc8c649-e75e-4e3a-a1b7-0f8f7fb56c51",
   "metadata": {},
   "outputs": [],
   "source": [
    "num_cols = []\n",
    "for c in df.columns:\n",
    "    if df.dtypes[c]==\"float64\" or df.dtypes[c]==\"int64\":\n",
    "        num_cols.append(c)\n",
    "\n",
    "cols_to_logify = []\n",
    "for c in num_cols:\n",
    "    if c==\"OSEBuildingID\" or c in target_cols:\n",
    "        continue\n",
    "    \n",
    "    df0[c] = df0[c].astype(float)\n",
    "    k = kurtosis(df0.loc[~df0[c].isna(), c])\n",
    "    if k>8 and c.endswith(\"_ratio\")==False:\n",
    "        cols_to_logify.append(c)\n",
    "print(f\"\"\"Colonnes à transformer en log: {cols_to_logify}\"\"\")"
   ]
  },
  {
   "cell_type": "code",
   "execution_count": null,
   "id": "793fb184-78cf-4448-a86a-0ad1de306d7a",
   "metadata": {},
   "outputs": [],
   "source": [
    "for col in cols_to_logify:\n",
    "    df[\"log_\"+col] = np.log(df[col] + 1)\n",
    "df.drop(columns=cols_to_logify, inplace=True)"
   ]
  },
  {
   "cell_type": "code",
   "execution_count": null,
   "id": "1ffa9fa8-133b-4bd7-bc4c-d9a1866410ae",
   "metadata": {},
   "outputs": [],
   "source": [
    "#df.drop(columns=[\"ENERGYSTARScore\"], inplace=True)"
   ]
  },
  {
   "cell_type": "code",
   "execution_count": null,
   "id": "688794c3-c466-49a6-9e70-ab267059ca90",
   "metadata": {},
   "outputs": [],
   "source": [
    "num_cols = []\n",
    "for c in df.columns:\n",
    "    if df.dtypes[c]==\"float64\" or df.dtypes[c]==\"int64\":\n",
    "        num_cols.append(c)\n"
   ]
  },
  {
   "cell_type": "code",
   "execution_count": null,
   "id": "ae013399-e528-4db6-953c-e19ef1675f58",
   "metadata": {},
   "outputs": [],
   "source": [
    "n_cols = df.select_dtypes(['int32', 'float64']).columns\n",
    "df_pp = df.loc[:, n_cols].dropna()"
   ]
  },
  {
   "cell_type": "code",
   "execution_count": null,
   "id": "257f1416-180d-4798-967f-2f54cad93d4d",
   "metadata": {},
   "outputs": [],
   "source": [
    "df_pp.info()"
   ]
  },
  {
   "cell_type": "code",
   "execution_count": null,
   "id": "0ca62445-a7c7-4814-b3f3-9f60c683fee8",
   "metadata": {},
   "outputs": [],
   "source": [
    "# Nordine : to remove ?\n",
    "#df[\"SiteEUIWN(kBtu/sf)\"] = np.log(df[\"SiteEUIWN(kBtu/sf)\"]+1)\n",
    "#df[\"GHGEmissionsIntensity\"] = np.log(df[\"GHGEmissionsIntensity\"]+1)"
   ]
  },
  {
   "cell_type": "code",
   "execution_count": null,
   "id": "74cad3f0-d0ec-4fee-aeba-8ecc060dc006",
   "metadata": {},
   "outputs": [],
   "source": [
    "fig = px.imshow(df_pp.corr(numeric_only =True))\n",
    "fig.update_layout(\n",
    "    autosize=False,\n",
    "    width=1000,\n",
    "    height=1000\n",
    ")\n",
    "fig.show()"
   ]
  },
  {
   "cell_type": "code",
   "execution_count": null,
   "id": "c6150f35-4063-4115-bb11-6208ab88f6d7",
   "metadata": {},
   "outputs": [],
   "source": [
    "n_cols = df.select_dtypes(['int32', 'float64']).columns\n",
    "df_pp = df.loc[:, n_cols].dropna()\n",
    "\n",
    "g = sns.pairplot(df_pp)\n",
    "for ax in g.axes.flatten():\n",
    "    ax.tick_params(rotation = 60)\n",
    "plt.show()"
   ]
  },
  {
   "cell_type": "markdown",
   "id": "c7c075aa-f364-4a05-9232-19f6c1c9df1a",
   "metadata": {},
   "source": [
    "# Analyse bivariée\n",
    "\n",
    "## ANOVA\n",
    "\n",
    "Nous allons réaliser une analyse ANOVA entre les features de consommation energétiques, les features d' émissions et les features catégorielles\n"
   ]
  },
  {
   "cell_type": "code",
   "execution_count": null,
   "id": "06c2de1e-c5df-464b-a140-e5be9e4609f0",
   "metadata": {},
   "outputs": [],
   "source": [
    "def eta_squared(x,y):\n",
    "    moyenne_y = y.mean()\n",
    "    classes = []\n",
    "    for classe in x.unique():\n",
    "        yi_classe = y[x==classe]\n",
    "        classes.append({'ni': len(yi_classe),\n",
    "                        'moyenne_classe': yi_classe.mean()})\n",
    "    SCT = sum([(yj-moyenne_y)**2 for yj in y])\n",
    "    SCE = sum([c['ni']*(c['moyenne_classe']-moyenne_y)**2 for c in classes])\n",
    "    return SCE/SCT\n",
    "    "
   ]
  },
  {
   "cell_type": "code",
   "execution_count": null,
   "id": "02441ca8-5f5e-4ff6-91c8-aab8374166db",
   "metadata": {},
   "outputs": [],
   "source": [
    "cat_cols"
   ]
  },
  {
   "cell_type": "code",
   "execution_count": null,
   "id": "ffb05c6f-ea9d-4085-b7a4-b039eb71a5a6",
   "metadata": {},
   "outputs": [],
   "source": [
    "df.columns"
   ]
  },
  {
   "cell_type": "code",
   "execution_count": null,
   "id": "fd51e4a3-03cd-4cec-9359-f13f796173c1",
   "metadata": {},
   "outputs": [],
   "source": [
    "df[\"DecadeBuilt\"] = df[\"DecadeBuilt\"].astype(str)\n",
    "\n",
    "num_cols = []\n",
    "cat_cols = []\n",
    "for c in df.columns:\n",
    "    if df.dtypes[c]==\"float64\" or df.dtypes[c]==\"int64\":\n",
    "        num_cols.append(c)\n",
    "    elif df.dtypes[c]==\"object\":\n",
    "        cat_cols.append(c)\n",
    "        "
   ]
  },
  {
   "cell_type": "code",
   "execution_count": null,
   "id": "2fcaf7a0-70cf-46cd-b3b7-dac4d713fd08",
   "metadata": {},
   "outputs": [],
   "source": [
    "box_cols_num = dict()\n",
    "\n",
    "df_eta = pd.DataFrame()\n",
    "\n",
    "for nrj_col in target_cols:\n",
    "    out = f\"### {nrj_col}\\n| Feature | ETA² | Corrélation avec {nrj_col}|\\n\"\n",
    "    out += \"|-----------|-----------|-----------|\\n\"\n",
    "\n",
    "    etas = {}\n",
    "\n",
    "    for cat_col in cat_cols:\n",
    "        etas[cat_col] = eta_squared(df[cat_col], df[nrj_col])\n",
    "    etas = dict(sorted(etas.items(), key=lambda item: item[1], reverse=True))\n",
    "    eta2 = {}\n",
    "    eta2[\"numeric_col\"] = nrj_col\n",
    "    for c in etas:\n",
    "        effect_size = \"Négligeable\"\n",
    "        eta2[c] = 0\n",
    "        if etas[c] >= 0.14:\n",
    "            effect_size = \"Grande\"\n",
    "            eta2[c] = 3\n",
    "            if c not in box_cols_num:\n",
    "                box_cols_num[c] = []\n",
    "            box_cols_num[c].append(nrj_col)\n",
    "        elif etas[c] >= 0.06:\n",
    "            effect_size = \"Moyenne\"\n",
    "            eta2[c] = 2\n",
    "        elif etas[c] >= 0.01:\n",
    "            effect_size = \"Petite\"\n",
    "            eta2[c] = 1\n",
    "        out += f\"\"\"| {c} | {etas[c]} | {effect_size} |\\n\"\"\"\n",
    "    df_eta2 = pd.DataFrame([eta2])\n",
    "    df_eta = pd.concat([df_eta, df_eta2], ignore_index=True)\n",
    "\n",
    "    display(md(out))\n",
    "    "
   ]
  },
  {
   "cell_type": "markdown",
   "id": "8e4cd63b-ab14-4581-81bb-0aaf18f4dbff",
   "metadata": {},
   "source": [
    "On voit que les distributions de \n",
    "- SiteEUIWN(kBtu/sf), \n",
    "- GHGEmissionsIntensity \n",
    "\n",
    "sont fortement corrélées avec les distributions de **LargestPropertyUseType** et **PrimaryPropertyType**.\n",
    "\n",
    "GHGEmissionsIntensity est aussi corrélé avec SecondLargestPropertyUseType"
   ]
  },
  {
   "cell_type": "code",
   "execution_count": null,
   "id": "52317862-bf4d-465c-aed5-09b6765fbeae",
   "metadata": {},
   "outputs": [],
   "source": [
    "df_eta"
   ]
  },
  {
   "cell_type": "code",
   "execution_count": null,
   "id": "2ce43986-2389-409f-8680-2b5509539226",
   "metadata": {},
   "outputs": [],
   "source": [
    "\n",
    "fig = px.imshow(df_eta.iloc[:,range(1, len(df_eta.columns))], y=df_eta[\"numeric_col\"])\n",
    "fig.show()"
   ]
  },
  {
   "cell_type": "markdown",
   "id": "ca839fb3-d86d-4355-b8d4-b5bc16afe812",
   "metadata": {},
   "source": [
    "log_SiteEUIWN(kBtu/sf) est corrélé à:\n",
    "- LargestPropertyUseType et PrimaryPropertyType de manière forte\n",
    "- SecondLargestPropertyUseType de manière moyenne\n",
    "\n",
    "log_GHGEmissionsIntensity est corrélé à:\n",
    "- LargestPropertyUseType et PrimaryPropertyType de manière forte"
   ]
  },
  {
   "cell_type": "markdown",
   "id": "7a875373-bbda-418d-8fb6-55b62a91653a",
   "metadata": {},
   "source": [
    "## Tests d'indépendance avec les features catégorielles"
   ]
  },
  {
   "cell_type": "code",
   "execution_count": null,
   "id": "bc2a1cde-4a8f-4fe5-bd99-9f5c13fa68f7",
   "metadata": {},
   "outputs": [],
   "source": [
    "num_cols = []\n",
    "cat_cols = []\n",
    "for c in df.columns:\n",
    "    if df.dtypes[c]==\"float64\" or df.dtypes[c]==\"int64\":\n",
    "        num_cols.append(c)\n",
    "    elif df.dtypes[c]==\"object\":\n",
    "        cat_cols.append(c)\n",
    "        "
   ]
  },
  {
   "cell_type": "code",
   "execution_count": null,
   "id": "9fe4926c-ef14-4f25-b734-18fd63571cbc",
   "metadata": {},
   "outputs": [],
   "source": [
    "out = \"\"\n",
    "p_limit = 0.03\n",
    "df_indep = pd.DataFrame()\n",
    "for ref_col in target_cols:\n",
    "    dict_line = {\"ref_col\":ref_col}\n",
    "    y = pd.cut(df[ref_col], 20)\n",
    "    out += f\"\"\"### **Test d'indépendance de {ref_col}**\\n\"\"\"\n",
    "    out += \"| Feature comparée | p | chi2 | Conclusion |\\n|-----|-----|-----|-----|\\n\"\n",
    "    for num_col in num_cols:\n",
    "        if num_col in target_cols:\n",
    "            continue\n",
    "        if num_col in [\"OSEBuildingID\"]:\n",
    "            continue\n",
    "        if num_col==ref_col:\n",
    "            continue\n",
    "        if len(df[num_col].unique())>20:\n",
    "            x = pd.cut(df[num_col], 20).astype('category')\n",
    "        else:\n",
    "            x = df[num_col].astype('category')\n",
    "        ct = pd.crosstab(x, y)\n",
    "        stat_chi2, p, dof, expected_table = stats.chi2_contingency(ct)\n",
    "        out += f\"| {num_col} | {p} | {stat_chi2} |\"\n",
    "        if p<p_limit:\n",
    "            out += f\"{ref_col} et {num_col} ne sont pas indépendantes|\\n\"\n",
    "            dict_line[num_col] = \"1\"\n",
    "        else:\n",
    "            out += f\"{ref_col} et {num_col} sont indépendantes|\\n\"\n",
    "            dict_line[num_col] = \"0\"\n",
    "    out += \"\\n\\n\"\n",
    "    df_indep2 = pd.DataFrame([dict_line])\n",
    "    df_indep = pd.concat([df_indep, df_indep2], ignore_index=True)\n",
    "display(md(out))\n"
   ]
  },
  {
   "cell_type": "code",
   "execution_count": null,
   "id": "9c535763-9bdf-42eb-985d-7e4d431e069d",
   "metadata": {},
   "outputs": [],
   "source": [
    "df_indep"
   ]
  },
  {
   "cell_type": "code",
   "execution_count": null,
   "id": "92252da2-2e6f-4a4e-ad5f-d9bb97544af6",
   "metadata": {},
   "outputs": [],
   "source": [
    "for col in df_indep.columns:\n",
    "    df_indep[col] = df_indep[col].astype(str)\n",
    "fig = px.imshow(df_indep.iloc[:,range(1, len(df_indep.columns))], y=df_indep[\"ref_col\"], title=\"toto\")\n",
    "fig.show()"
   ]
  },
  {
   "cell_type": "markdown",
   "id": "34f5edb4-dced-45ad-818d-3a75c1e08dd9",
   "metadata": {},
   "source": [
    "On voit que les données liées au parking sont indépendantes des features cibles.\n",
    "\n",
    "log_SiteEUIWN(kBtu/sf) est en relation avec:\n",
    "- DecadeBuilt (ramené en entier)\n",
    "- gas_ratio\n",
    "- electricity_ratio\n",
    "- log_NumberofFloors\n",
    "- log_PropertyGFATotal\n",
    "- log_PropertyGFABuilding(s)\n",
    "- log_LargestPropertyUseTypeGFA\n",
    "- log_SecondLargestPropertyUseTypeGFA\n",
    "\n",
    "\n",
    "GHGEmissionsIntensity est en relation avec:\n",
    "- DecadeBuilt (transformé en entier)\n",
    "- gas_ratio\n",
    "- electricity_ratio\n",
    "- steam_ratio\n",
    "- log_NumberofBuildings\n",
    "- log_PropertyGFATotal\n",
    "- log_PropertyGFABuilding(s)\n",
    "- log_LargestPropertyUseTypeGFA\n",
    "- log_SecondLargestPropertyUseTypeGFA\n",
    "- log_ThirdLargestPropertyUseTypeGFA\n"
   ]
  },
  {
   "cell_type": "markdown",
   "id": "c6f6964f-8637-4b9a-a612-05fe6cec1875",
   "metadata": {
    "tags": []
   },
   "source": [
    "# Analyse PCA"
   ]
  },
  {
   "cell_type": "markdown",
   "id": "7628302d-169d-4a18-89c6-647f13ad59f9",
   "metadata": {},
   "source": [
    "Pour la PCA, nous allons prendre en compte la décennie de construction des immeubles"
   ]
  },
  {
   "cell_type": "code",
   "execution_count": null,
   "id": "17595ece-ae65-40e0-b444-8ed8d88596de",
   "metadata": {},
   "outputs": [],
   "source": [
    "df.info()"
   ]
  },
  {
   "cell_type": "code",
   "execution_count": null,
   "id": "6ca716e1-bbdb-4435-b7a2-fa064c5cc905",
   "metadata": {},
   "outputs": [],
   "source": [
    "df[\"DecadeBuilt\"] = df[\"DecadeBuilt\"].astype(int)"
   ]
  },
  {
   "cell_type": "code",
   "execution_count": null,
   "id": "5af5b5a1-63a4-4463-90b8-998225646387",
   "metadata": {
    "tags": []
   },
   "outputs": [],
   "source": [
    "num_cols = []\n",
    "cat_cols = []\n",
    "for c in df.columns:\n",
    "    if df.dtypes[c]==\"float64\" or df.dtypes[c]==\"int64\":\n",
    "        if c!=\"ENERGYSTARScore\" and c!=\"log_TotalGHGEmissions\" and c!=\"log_SiteEnergyUse(kBtu)\":\n",
    "            num_cols.append(c)\n",
    "    elif df.dtypes[c]==\"object\":\n",
    "        cat_cols.append(c)\n"
   ]
  },
  {
   "cell_type": "code",
   "execution_count": null,
   "id": "b0868976-7a3d-43be-a084-8826f157dc0e",
   "metadata": {
    "tags": []
   },
   "outputs": [],
   "source": [
    "X = df.loc[:, num_cols].reset_index(drop=True).values"
   ]
  },
  {
   "cell_type": "code",
   "execution_count": null,
   "id": "83e606e0-42da-43bd-8f0e-cbbdf0cfa548",
   "metadata": {},
   "outputs": [],
   "source": [
    "num_cols"
   ]
  },
  {
   "cell_type": "code",
   "execution_count": null,
   "id": "89a8157c-26ac-4759-a262-5655ae3fed1b",
   "metadata": {
    "tags": []
   },
   "outputs": [],
   "source": [
    "scaler = StandardScaler()\n",
    "X_scaled = scaler.fit_transform(X)"
   ]
  },
  {
   "cell_type": "code",
   "execution_count": null,
   "id": "2518942f-014c-4867-99f9-b6dc68bb6a3c",
   "metadata": {
    "tags": []
   },
   "outputs": [],
   "source": [
    "n_components = len(num_cols)\n",
    "pca = PCA(n_components=n_components)\n",
    "pca.fit(X_scaled)\n",
    "pca.explained_variance_ratio_"
   ]
  },
  {
   "cell_type": "code",
   "execution_count": null,
   "id": "02b637ce-3332-45ed-adf3-48f01bb96efd",
   "metadata": {},
   "outputs": [],
   "source": [
    "pca.components_"
   ]
  },
  {
   "cell_type": "code",
   "execution_count": null,
   "id": "f4cad832-23fb-4019-83ee-e36842bb589e",
   "metadata": {
    "tags": []
   },
   "outputs": [],
   "source": [
    "fig = go.Figure()\n",
    "\n",
    "fig.add_trace(\n",
    "    go.Bar(\n",
    "        x=list(range(1, n_components+1)),\n",
    "        y=pca.explained_variance_ratio_ * 100,\n",
    "        hoverinfo='x+y',\n",
    "        name=\"Variance expliquée\" \n",
    "    ),\n",
    ")\n",
    "fig.add_trace(\n",
    "    go.Scatter(\n",
    "        x=list(range(1, n_components+1)), \n",
    "        y=np.cumsum(pca.explained_variance_ratio_*100),\n",
    "        mode='lines',\n",
    "        name='Variance expliquée cumulée'\n",
    "    )\n",
    ")\n",
    "\n",
    "fig.update_layout(\n",
    "    title=f\"\"\"Ebouli des valeurs propres avec {n_components} composantes\"\"\",\n",
    "    title_x=0.5,\n",
    "    autosize=False,\n",
    "    width=800,\n",
    "    height=600,\n",
    "    legend=dict(\n",
    "        yanchor=\"middle\",\n",
    "        y=0.5,\n",
    "        xanchor=\"right\",\n",
    "        x=0.99\n",
    "    )\n",
    ")\n",
    "fig.show()"
   ]
  },
  {
   "cell_type": "code",
   "execution_count": null,
   "id": "51ec1c2c-a9d0-45dd-ad69-c30ed9b593f8",
   "metadata": {
    "tags": []
   },
   "outputs": [],
   "source": [
    "\n",
    "def correlation_graph2(pca, x_y, features): \n",
    "    colors_cycle = itertools.cycle(px.colors.qualitative.Dark24)\n",
    "\n",
    "    x,y=x_y\n",
    "\n",
    "    fig = go.Figure()\n",
    "    fig.add_shape(\n",
    "        type=\"circle\",\n",
    "        xref=\"x\", yref=\"y\",\n",
    "        x0=-1, y0=-1, x1=1, y1=1,\n",
    "        line_color=\"Black\",\n",
    "    )\n",
    "    \n",
    "    for i in range(0, pca.components_.shape[1]):\n",
    "        color = next(colors_cycle)\n",
    "        fig.add_annotation(\n",
    "            x=pca.components_[x, i],\n",
    "            y=pca.components_[y, i],\n",
    "            xref=\"x\", yref=\"y\",\n",
    "            showarrow=True,\n",
    "            axref = \"x\", ayref='y',\n",
    "            ax=0,\n",
    "            ay=0,\n",
    "            arrowhead=4,\n",
    "            arrowwidth=2,\n",
    "            arrowcolor=color,\n",
    "            font=dict(\n",
    "                color=color,\n",
    "                size=12\n",
    "            ),\n",
    "        )\n",
    "        fig.add_trace(\n",
    "            go.Scatter(\n",
    "                x=[pca.components_[x, i]],\n",
    "                y=[pca.components_[y, i]],\n",
    "                text=[features[i]],\n",
    "                mode='text',\n",
    "                marker=dict(\n",
    "                    color = color\n",
    "                ),\n",
    "                name=features[i]\n",
    "            ), \n",
    "        )\n",
    "        \n",
    "    fig.update_layout(width=1500, height=1000,\n",
    "        legend=dict(\n",
    "            yanchor=\"top\",\n",
    "            y=0.99,\n",
    "            xanchor=\"right\",\n",
    "            x=0.99,\n",
    "        )\n",
    "    )\n",
    "    fig.update_xaxes(range=[-1.1, 1.1], title=dict(text = f\"F{x+1}\"))\n",
    "    fig.update_yaxes(range=[-1.1, 1.1], title=dict(text = f\"F{y+1}\"))\n",
    "    \n",
    "    fig.for_each_trace(lambda t: t.update(textfont_color=t.marker.color))\n",
    "    fig.update_yaxes(\n",
    "        scaleanchor = \"x\",\n",
    "        scaleratio = 1,\n",
    "    )\n",
    "    fig.show()"
   ]
  },
  {
   "cell_type": "code",
   "execution_count": null,
   "id": "270f576a-99d4-449f-9dd4-726a76e66704",
   "metadata": {
    "tags": []
   },
   "outputs": [],
   "source": [
    "correlation_graph2(pca, (0,1), num_cols)"
   ]
  },
  {
   "cell_type": "markdown",
   "id": "2e8cc79c-be9d-4fca-942c-57c922b56bca",
   "metadata": {},
   "source": [
    "On voit que F2 est fortement corrélé aux features cibles ainsi qu'aux ratio d'energies utilisées.\n",
    "\n",
    "GHGEmissionIntensity est inversement corrélé à electricity_ratio alors qu'il est corrélé dans le même sens à gas_ratio"
   ]
  },
  {
   "cell_type": "code",
   "execution_count": null,
   "id": "37dfa8e1-5d27-4844-9bd8-31f258981a81",
   "metadata": {},
   "outputs": [],
   "source": [
    "correlation_graph2(pca, (2,3), num_cols)"
   ]
  },
  {
   "cell_type": "markdown",
   "id": "89336f54-83a3-4cdb-9705-87da25ecbf68",
   "metadata": {},
   "source": [
    "Selon F3 et F4, les features cibles évoluent avec PropertyGFATotal, LargestPropertyUseTypeGFA et NumberofBuildings"
   ]
  },
  {
   "cell_type": "code",
   "execution_count": null,
   "id": "0794a3ea-53eb-4e74-8af3-afba76603691",
   "metadata": {},
   "outputs": [],
   "source": [
    "for j in range(0, len(target_cols)):\n",
    "    df_proj = pd.DataFrame(pca.transform(X_scaled), columns=[f\"F{i}\" for i in range(1, n_components+1)] )\n",
    "    df_proj[target_cols[j]] = df[target_cols[j]]\n",
    "    \n",
    "    sns.scatterplot(data=df_proj, x=\"F1\", y=\"F2\", hue=target_cols[j])\n",
    "    plt.show()\n",
    "    \n",
    "    sns.scatterplot(data=df_proj, x=\"F3\", y=\"F4\", hue=target_cols[j])\n",
    "    plt.show()\n"
   ]
  },
  {
   "cell_type": "markdown",
   "id": "a9f10bad-1df8-466f-8e9a-f2c65d5737c4",
   "metadata": {},
   "source": [
    "# Conclusion\n",
    "\n",
    "L'analyse exploratoire permet de montrer que:\n",
    "\n",
    "**log_SiteEUIWN(kBtu/sf)** est corrélé à:\n",
    "- LargestPropertyUseType et PrimaryPropertyType de manière forte\n",
    "- SecondLargestPropertyUseType de manière moyenne\n",
    "- DecadeBuilt (ramené en entier)\n",
    "- gas_ratio\n",
    "- electricity_ratio\n",
    "- log_NumberofFloors\n",
    "- log_PropertyGFATotal\n",
    "- log_PropertyGFABuilding(s)\n",
    "- log_LargestPropertyUseTypeGFA\n",
    "- log_SecondLargestPropertyUseTypeGFA\n",
    "\n",
    "**log_GHGEmissionsIntensity** est corrélé à:\n",
    "- LargestPropertyUseType et PrimaryPropertyType de manière forte\n",
    "- DecadeBuilt (transformé en entier)\n",
    "- gas_ratio\n",
    "- electricity_ratio\n",
    "- steam_ratio\n",
    "- log_NumberofBuildings\n",
    "- log_PropertyGFATotal\n",
    "- log_PropertyGFABuilding(s)\n",
    "- log_LargestPropertyUseTypeGFA\n",
    "- log_SecondLargestPropertyUseTypeGFA\n",
    "- log_ThirdLargestPropertyUseTypeGFA\n"
   ]
  },
  {
   "cell_type": "markdown",
   "id": "81ea91df-1233-4682-9cec-bce72811d158",
   "metadata": {},
   "source": [
    "L'analyse PCA nous montre que les features cibles évoluent fortement avec F2, ce qui veut dire que les features cibles:\n",
    "- grandissent fortement avec:\n",
    "    - gas_ratio\n",
    "- baissent fortement avec:\n",
    "    - electricity_ratio\n"
   ]
  },
  {
   "cell_type": "code",
   "execution_count": null,
   "id": "7e164c9d-a4ea-4a58-94ac-9bfe81584e26",
   "metadata": {},
   "outputs": [],
   "source": [
    "df.to_parquet(f\"{working_dir}/explored.parquet\")"
   ]
  }
 ],
 "metadata": {
  "kernelspec": {
   "display_name": ".venv4",
   "language": "python",
   "name": ".venv4"
  },
  "language_info": {
   "codemirror_mode": {
    "name": "ipython",
    "version": 3
   },
   "file_extension": ".py",
   "mimetype": "text/x-python",
   "name": "python",
   "nbconvert_exporter": "python",
   "pygments_lexer": "ipython3",
   "version": "3.10.6"
  }
 },
 "nbformat": 4,
 "nbformat_minor": 5
}
