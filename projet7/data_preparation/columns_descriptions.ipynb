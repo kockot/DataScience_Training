{
 "cells": [
  {
   "cell_type": "code",
   "execution_count": 1,
   "id": "f8e7b5e1-56c2-48dc-ad53-b0ebbf90cae5",
   "metadata": {},
   "outputs": [],
   "source": [
    "import pandas as pd\n",
    "import numpy as np\n",
    "import json\n"
   ]
  },
  {
   "cell_type": "code",
   "execution_count": 2,
   "id": "8629636f-27a2-4c8c-9a2a-a75363883e2a",
   "metadata": {},
   "outputs": [],
   "source": [
    "df = pd.read_parquet(\"../working/df_application_test.parquet\")"
   ]
  },
  {
   "cell_type": "code",
   "execution_count": 3,
   "id": "20a748a5-1a43-4fd6-a86c-fb0055bc2b1c",
   "metadata": {},
   "outputs": [],
   "source": [
    "cols = df.columns"
   ]
  },
  {
   "cell_type": "code",
   "execution_count": 4,
   "id": "1d088559-23ca-4c8d-b03d-4ee9e7bc54d5",
   "metadata": {},
   "outputs": [
    {
     "data": {
      "text/plain": [
       "Index(['SK_ID_CURR', 'CNT_CHILDREN', 'AMT_INCOME_TOTAL', 'AMT_CREDIT',\n",
       "       'AMT_ANNUITY', 'REGION_POPULATION_RELATIVE', 'DAYS_BIRTH',\n",
       "       'DAYS_EMPLOYED', 'DAYS_REGISTRATION', 'DAYS_ID_PUBLISH',\n",
       "       ...\n",
       "       'BUREAU_DAYS_CREDIT_UPDATE_min', 'BUREAU_DAYS_CREDIT_UPDATE_max',\n",
       "       'BUREAU_DAYS_CREDIT_UPDATE_mean', 'BUREAU_DAYS_CREDIT_UPDATE_var',\n",
       "       'BUREAU_DAYS_CREDIT_UPDATE_sum', 'BUREAU_MONTHS_BALANCE_min',\n",
       "       'BUREAU_MONTHS_BALANCE_max', 'BUREAU_MONTHS_BALANCE_mean',\n",
       "       'BUREAU_MONTHS_BALANCE_var', 'BUREAU_MONTHS_BALANCE_sum'],\n",
       "      dtype='object', length=466)"
      ]
     },
     "execution_count": 4,
     "metadata": {},
     "output_type": "execute_result"
    }
   ],
   "source": [
    "cols"
   ]
  },
  {
   "cell_type": "code",
   "execution_count": 5,
   "id": "0bb3dbc9-1d2e-4dec-a6b9-ca5e7d4a6cdf",
   "metadata": {},
   "outputs": [],
   "source": [
    "df_description = pd.read_csv(\"../assets/HomeCredit_columns_description.csv\",encoding = \"ISO-8859-1\")"
   ]
  },
  {
   "cell_type": "code",
   "execution_count": 6,
   "id": "af405ea5-ff29-4695-81a3-89c207925a57",
   "metadata": {},
   "outputs": [],
   "source": [
    "detailed_cols = {}\n",
    "ext = tuple([\"_VAR\", \"_MEAN\", \"_MIN\", \"_MAX\", \"_SUM\", \"_NB_ROWS\"])\n",
    "tables = [\"BUREAU\", \"CREDIT_CARD_BALANCE\", \"INSTALLMENTS_PAYMENTS\", \"POS_CASH\", \"PREVIOUS_APPLICATION\"]\n",
    "for c in cols:\n",
    "    if c==\"SK_ID_CURR\":\n",
    "        pass\n",
    "    table = \"\"\n",
    "    ext = \"\"\n",
    "    ext2 = \"\"\n",
    "    for t in tables:\n",
    "        if c.startswith(t):\n",
    "            table = t\n",
    "            if c.endswith(\"_var\"):\n",
    "                ext = \"Variance\"\n",
    "                ext2 = \"_var\"\n",
    "            elif c.endswith(\"_mean\"):\n",
    "                ext = \"Moyenne\"\n",
    "                ext2 = \"_mean\"\n",
    "            elif c.endswith(\"_min\"):\n",
    "                ext = \"Valeur minimale\"\n",
    "                ext2 = \"_min\"\n",
    "            elif c.endswith(\"_max\"):\n",
    "                ext = \"Valeur maximale\"\n",
    "                ext2 = \"_max\"\n",
    "            elif c.endswith(\"_sum\"):\n",
    "                ext = \"Somme\"\n",
    "                ext2 = \"_sum\"\n",
    "            elif c.endswith(\"_NB_ROWS\"):\n",
    "                ext2 = \"_NB_ROWS\"\n",
    "                ext = \"Nb occurences\"\n",
    "            else:\n",
    "                ext = \"\"\n",
    "                ext2 = \"\"\n",
    "                \n",
    "    real_column = c\n",
    "    if table!=\"\":\n",
    "        real_column = real_column[len(table)+1:]\n",
    "    if ext2!=\"\":\n",
    "        real_column = real_column[0: -len(ext2)]\n",
    "    detailed_cols[c] = {\n",
    "        \"table\": table,\n",
    "        \"ext\": ext,\n",
    "        \"column\": real_column\n",
    "    }\n"
   ]
  },
  {
   "cell_type": "code",
   "execution_count": 7,
   "id": "b3e9aa17-9e95-4674-8404-c39340361cad",
   "metadata": {},
   "outputs": [],
   "source": [
    "def get_col_description(col_name, df, detailed_cols):\n",
    "    if col_name not in detailed_cols.keys():\n",
    "        return \"Aucun description\"\n",
    "    map_t_table = {\n",
    "        \"\": [\"application_{train|test}.csv\"],\n",
    "        \"BUREAU\": [\"bureau.csv\", \"bureau_balance.csv\"],\n",
    "        \"CREDIT_CARD_BALANCE\": [\"credit_card_balance.csv\"],\n",
    "        \"INSTALLMENTS_PAYMENTS\": [\"installments_payments.csv\"],\n",
    "        \"POS_CASH\": [\"POS_CASH_balance.csv\"],\n",
    "        \"PREVIOUS_APPLICATION\": [\"previous_application.csv\"]\n",
    "    }\n",
    "    results = df.loc[df[\"Table\"].isin(map_t_table[detailed_cols[col_name][\"table\"]]) & (df[\"Row\"]==detailed_cols[col_name][\"column\"]), \"Description\"]\n",
    "    if results.shape[0]>0:\n",
    "        if detailed_cols[col_name][\"ext\"]!=\"\":\n",
    "            return f\"\"\"<u>Description</u>: {detailed_cols[col_name][\"ext\"]} de: {results.iat[0]}\"\"\"\n",
    "        else:\n",
    "            return f\"\"\"<u>Description</u>: {results.iat[0]}\"\"\"\n",
    "\n",
    "    if detailed_cols[col_name][\"table\"]==\"\":\n",
    "        row_names = df.loc[df[\"Table\"].isin(map_t_table[\"\"]), \"Row\"]\n",
    "        for row_name in row_names:\n",
    "            if detailed_cols[col_name][\"column\"].startswith(row_name):\n",
    "                results = df.loc[df[\"Table\"].isin(map_t_table[\"\"]) & (df[\"Row\"]==row_name), \"Description\"]\n",
    "                if results.shape[0]>0:\n",
    "                    v = detailed_cols[col_name][\"column\"][len(row_name) + 1:]\n",
    "                    return f\"\"\"<u>Description</u>: {results.iat[0]}<br><u>Valeur</u>: {v}\"\"\"\n",
    "    return \"\""
   ]
  },
  {
   "cell_type": "code",
   "execution_count": 8,
   "id": "6ebafba2-11e0-4389-b9db-6534daf58a9c",
   "metadata": {},
   "outputs": [
    {
     "data": {
      "text/plain": [
       "'<u>Description</u>: Clients income type (businessman, working, maternity leave,\\x85)<br><u>Valeur</u>: Businessman'"
      ]
     },
     "execution_count": 8,
     "metadata": {},
     "output_type": "execute_result"
    }
   ],
   "source": [
    "get_col_description(\"NAME_INCOME_TYPE_Businessman\", df_description, detailed_cols)"
   ]
  },
  {
   "cell_type": "code",
   "execution_count": 9,
   "id": "40142911-afd7-4c40-a4f5-7b14bf1c11f3",
   "metadata": {},
   "outputs": [
    {
     "data": {
      "text/html": [
       "<div>\n",
       "<style scoped>\n",
       "    .dataframe tbody tr th:only-of-type {\n",
       "        vertical-align: middle;\n",
       "    }\n",
       "\n",
       "    .dataframe tbody tr th {\n",
       "        vertical-align: top;\n",
       "    }\n",
       "\n",
       "    .dataframe thead th {\n",
       "        text-align: right;\n",
       "    }\n",
       "</style>\n",
       "<table border=\"1\" class=\"dataframe\">\n",
       "  <thead>\n",
       "    <tr style=\"text-align: right;\">\n",
       "      <th></th>\n",
       "      <th>Unnamed: 0</th>\n",
       "      <th>Table</th>\n",
       "      <th>Row</th>\n",
       "      <th>Description</th>\n",
       "      <th>Special</th>\n",
       "    </tr>\n",
       "  </thead>\n",
       "  <tbody>\n",
       "    <tr>\n",
       "      <th>140</th>\n",
       "      <td>143</td>\n",
       "      <td>bureau_balance.csv</td>\n",
       "      <td>MONTHS_BALANCE</td>\n",
       "      <td>Month of balance relative to application date ...</td>\n",
       "      <td>time only relative to the application</td>\n",
       "    </tr>\n",
       "  </tbody>\n",
       "</table>\n",
       "</div>"
      ],
      "text/plain": [
       "     Unnamed: 0               Table             Row  \\\n",
       "140         143  bureau_balance.csv  MONTHS_BALANCE   \n",
       "\n",
       "                                           Description  \\\n",
       "140  Month of balance relative to application date ...   \n",
       "\n",
       "                                   Special  \n",
       "140  time only relative to the application  "
      ]
     },
     "execution_count": 9,
     "metadata": {},
     "output_type": "execute_result"
    }
   ],
   "source": [
    "df_description.loc[df_description[\"Table\"].isin(['bureau.csv', 'bureau_balance.csv']) & (df_description[\"Row\"]==\"MONTHS_BALANCE\") ]"
   ]
  },
  {
   "cell_type": "code",
   "execution_count": 10,
   "id": "d23c8f59-d5d7-4738-9dff-0daa02f2c0fb",
   "metadata": {},
   "outputs": [],
   "source": [
    "cols_description = {}\n",
    "for c in cols:\n",
    "    cols_description[c] = get_col_description(c, df_description, detailed_cols)\n",
    "with open(\"cols_description.json\", \"w\") as f:\n",
    "    f.write(json.dumps(cols_description))"
   ]
  },
  {
   "cell_type": "code",
   "execution_count": null,
   "id": "c1d90a40-952e-4fee-b153-0e3d131df9af",
   "metadata": {},
   "outputs": [],
   "source": []
  }
 ],
 "metadata": {
  "kernelspec": {
   "display_name": "Python 3 (ipykernel)",
   "language": "python",
   "name": "python3"
  },
  "language_info": {
   "codemirror_mode": {
    "name": "ipython",
    "version": 3
   },
   "file_extension": ".py",
   "mimetype": "text/x-python",
   "name": "python",
   "nbconvert_exporter": "python",
   "pygments_lexer": "ipython3",
   "version": "3.8.10"
  }
 },
 "nbformat": 4,
 "nbformat_minor": 5
}
